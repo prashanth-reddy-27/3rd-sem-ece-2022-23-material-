{
  "nbformat": 4,
  "nbformat_minor": 0,
  "metadata": {
    "colab": {
      "provenance": [],
      "authorship_tag": "ABX9TyOtj7LZDfMVBqd7MiWUorIV",
      "include_colab_link": true
    },
    "kernelspec": {
      "name": "python3",
      "display_name": "Python 3"
    },
    "language_info": {
      "name": "python"
    }
  },
  "cells": [
    {
      "cell_type": "markdown",
      "metadata": {
        "id": "view-in-github",
        "colab_type": "text"
      },
      "source": [
        "<a href=\"https://colab.research.google.com/github/prashanth-reddy-27/3rd-sem-ece-2022-23-material-/blob/main/prashanth_notebook.ipynb\" target=\"_parent\"><img src=\"https://colab.research.google.com/assets/colab-badge.svg\" alt=\"Open In Colab\"/></a>"
      ]
    },
    {
      "cell_type": "code",
      "execution_count": 3,
      "metadata": {
        "colab": {
          "base_uri": "https://localhost:8080/"
        },
        "id": "MFLbjDppPuLP",
        "outputId": "e44f8858-57e8-4e56-d2bd-be12326a70da"
      },
      "outputs": [
        {
          "output_type": "stream",
          "name": "stdout",
          "text": [
            "THE NEW NOTEBBOK ARRAY IS : 1 2 3 4 5 6 7 8 9 10 \n",
            "\n"
          ]
        }
      ],
      "source": [
        "import array as arr\n",
        "a=arr.array(\"i\",[1,2,3,4,5,6,7,8,9,10])\n",
        "print(\"THE NEW NOTEBBOK ARRAY IS :\",end=\" \")\n",
        "for i in range(0,10):\n",
        "  print(a[i],end=\" \")\n",
        "print(\"\\n\")"
      ]
    },
    {
      "cell_type": "code",
      "source": [
        "a=input(\"hello jay how are you \\n\")\n",
        "if(a==\"i am good\"):\n",
        "  print(\"thats great you are always good \\n\")\n",
        "elif(a==\"i am ok\"):\n",
        "  print(\"its nice \\n\")\n"
      ],
      "metadata": {
        "colab": {
          "base_uri": "https://localhost:8080/"
        },
        "id": "cImur-zy9vf-",
        "outputId": "a4b0009a-8e2a-4bdf-e831-7dc4f44ebfd5"
      },
      "execution_count": 4,
      "outputs": [
        {
          "output_type": "stream",
          "name": "stdout",
          "text": [
            "hello jay how are you \n",
            "i am ok\n",
            "its nice \n",
            "\n"
          ]
        }
      ]
    }
  ]
}